{
 "cells": [
  {
   "cell_type": "markdown",
   "id": "699f33d9",
   "metadata": {},
   "source": [
    "## Manual for Kinetics experiment."
   ]
  },
  {
   "cell_type": "markdown",
   "id": "790adf66",
   "metadata": {},
   "source": [
    "### Setup\n",
    "\n",
    "In this experiment, you will operate a CSTR at various conditions to investigate steady state and transient responses of the system. You will also use the data to estimate the kinetics of the reaction. Your setup is presented in the following diagram:\n",
    "\n",
    "<img src=\"2024k.png\" width=\"600\" />"
   ]
  },
  {
   "cell_type": "markdown",
   "id": "cf32c5cc",
   "metadata": {},
   "source": [
    "Note that 2 different concentrations of ethyl acetate solution will be used. At times the A solution will be used and at times the B solution."
   ]
  },
  {
   "cell_type": "markdown",
   "id": "7787783f",
   "metadata": {},
   "source": [
    "### Background on the reaction\n",
    "\n",
    "You will study the homogeneous (non catalysed) saponification reaction of ethyl acetate with sodium hydroxide to form sodium acetate and ethanol:\n",
    "\n",
    "$$ CH_3COOCH_2CH_3 + NaOH \\to CH_3COONa+CH_3CH_2OH $$\n",
    "\n",
    "$$ A+B \\to C+D$$\n",
    "\n",
    "The reaction is irreversible and accordingly the reaction rate is only a function of the two reactant concentrations and the temperature. The reaction will start whenever the ethyl acetate mixture gets in contact with the sodium hydroxide mixture. The reaction is known to exibit elementary kinetics and the rate expression is given by:\n",
    "\n",
    "$$-r_A=kC_AC_B$$\n",
    "\n",
    "This implies that the reaction is first order with respect to each of the reagent concentrations.\n",
    "\n",
    "You are expected to determine the the k-value at the specific temperature of your experiment."
   ]
  },
  {
   "cell_type": "markdown",
   "id": "9818cfa5",
   "metadata": {},
   "source": [
    "### Experimental details\n",
    "\n",
    "You will be supplied with 3 liters each of 0.08 mol/L ethyl acetate (A mixture) and 0.04 mol/L of NaOH. In addition, you will get 2 liters of 0.16 mol/L ethyl acetate (B mixture).\n",
    "\n",
    "The pump should be set to 15ml/min (for each tube) for the duration of the experiment. This implies that the total flow rate to the CSTR is 30ml/min.\n",
    "\n",
    "The experiment will start with the beaker filled with distilled water (almost zero electrical conductivity). For the first 40 minutes, you will use the NaOH mixture and the A mixture of ethyl acetate. From 40 to 80 minutes the A mixture of ethyl acetate will be replaced by the B mixture of ethyl acetate. After 80 minutes you will revert to using the A mixture. \n",
    "\n",
    "Given that both reagent flows get mixed into the CSTR the inlet concentration to the CSTR will be 0.02 mol/L of NaOH (reagent A) and 0.04 mol/l of ethyl acetate (reagent B). Similarly, the B-mixture will be diluted to 0.08 mol/L for the 40 to 80-minute time interval. The EC (electrical conductivity) measurements in the reactor will be recorded at regular time intervals as time progresses.\n",
    "\n",
    "Note that both NaOH (A) and sodium acetate (C) contribute to EC. The conductivity of A is more than the conductivity of C and accordingly, EC will drop as conversion takes place. In order to calculate the conversion of A (and accordingly the concentration of A and B) you need to know the EC value of a 100% conversion of A. This can be obtained by running a batch reactor with an initial concentration of 0.02 mol/L of A and 0.04 mol/l of B as well as an additional batch reactor with an initial concentration of 0.02 mol/L of A and 0.08 mol/l of B. Once the runs are completed the EC value will stabilize to $K_{FINAL}$. **Note that the  $K_{FINAL}$ value will be different between 40 and 80 minutes**. The conversion of A at any moment in time will be given by the following equation:\n",
    "\n",
    "$$ x=\\frac{K_{START}-K}{K_{START}-K_{FINAL}}$$\n",
    "\n",
    "Note that K is the EC reading as time progresses, while $K_{START}$ is the EC reading of 0.02 mol/L of A. The concentration of A in mol/L will be given by:\n",
    "\n",
    "$$C_A=0.02 \\cdot (1-x)$$\n",
    "\n",
    "The experiment will be performed at ambient temperature and it is crucial to measure temperature at all times. \n"
   ]
  },
  {
   "cell_type": "markdown",
   "id": "89221c2a",
   "metadata": {},
   "source": [
    "### Fitting the k-value in Pyhon\n",
    "\n",
    "Before entering the lab you need a model to predict how concentrations vary with time. The only unknown in the model will be the k-value of the kinetic expression. As an initial guess, you can use k-value at of 9 $\\frac{liter}{mol \\cdot min}$. Use the following Python code to allow for changing the concentration of B within a single defined differential equation:"
   ]
  },
  {
   "cell_type": "code",
   "execution_count": 1,
   "id": "df1da78b",
   "metadata": {},
   "outputs": [],
   "source": [
    "def molbal(t,C):\n",
    "    \n",
    "    \n",
    "    if t <= t1:\n",
    "        Cbo=Cbo1\n",
    "    elif t1 < t <= t2:\n",
    "        Cbo = Cbo2    \n",
    "    else:\n",
    "        Cbo=Cbo1"
   ]
  },
  {
   "cell_type": "markdown",
   "id": "c06c364b",
   "metadata": {},
   "source": [
    "### Reporting on your experiment\n",
    "\n",
    "You need to prepare a 10-minute presentation showcasing your results and analysis. Both the A and B parts of the group will perform a presentation. A timeslot will be scheduled for this activity. "
   ]
  }
 ],
 "metadata": {
  "kernelspec": {
   "display_name": "Python 3 (ipykernel)",
   "language": "python",
   "name": "python3"
  },
  "language_info": {
   "codemirror_mode": {
    "name": "ipython",
    "version": 3
   },
   "file_extension": ".py",
   "mimetype": "text/x-python",
   "name": "python",
   "nbconvert_exporter": "python",
   "pygments_lexer": "ipython3",
   "version": "3.9.13"
  }
 },
 "nbformat": 4,
 "nbformat_minor": 5
}
