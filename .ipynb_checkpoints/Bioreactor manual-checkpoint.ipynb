{
 "cells": [
  {
   "cell_type": "markdown",
   "id": "ce686dba",
   "metadata": {},
   "source": [
    "# Bioreactor manual\n",
    "\n",
    "### How fast can you produce protons?\n",
    "\n",
    "<img src=\"prot.png\" width=\"550\" />\n",
    "\n",
    "In this experiment your group will be competing against all the other groups. The objective is to prepare a 50ml liquid innoculum that will reduce the pH of a given mixture at the fastest rate possible. You will test your innoculum in a 500 ml bioreactor run in order to see how fast the pH decrease. On the day of the competition (11 or 13 October) all innoculums will be added at exactly the same time and pH measurements will be recorded every 10 minutes. Marks will be assigned according to how fast you can produce protons in your fermentation broth.  \n",
    "\n",
    "In addition to preparing for the competition, you will have to write a report on your strategy to develop the innoculum. The report will be due on midnight before your scheduled competition. There are numerous sessions on Wednesday and Friday where you are not scheduled for another experiment and these should be used for your innoculum preparation and fermentation testing."
   ]
  },
  {
   "cell_type": "markdown",
   "id": "b3f1f9ab",
   "metadata": {},
   "source": [
    "### What happens to a sugary mixture with essential amino in an anaerobic environment?\n",
    "\n",
    "Start with 50ml bottle (innoculum prep bottle) containing 50 $\\frac{g}{L}$ of glucose and 4 $\\frac{g}{L}$ of [yeast extract](https://en.wikipedia.org/wiki/Yeast_extract). The mixture contains a carbon source with all the amino acids and presents the perfect invitation for microbes to thrive. A natural infection will occur with time, but since our time is limited we'll kickstart the process by supplying you with two types of probiotic capsules containing microbes that will cause acidification.\n",
    "\n",
    "You might wonder why the mixture acidifies with time? The answer relates to lactic acid bacteria ([LAB](https://en.wikipedia.org/wiki/Lactic_acid_bacteria)). One of the simplest and easiets route to produce ATP anaerobically from glucose is via the production of lactic acid.\n",
    "\n",
    "<img src=\"lactic.png\" width=\"400\" />\n",
    "\n",
    "LAB presents a group of bacteria that is specialized in this process, especially at temperatures close to that of the human body. LAB does however require certain [essential amino acids](https://en.wikipedia.org/wiki/Essential_amino_acid), but given the yeast extract in the mixture this won't be an issue. Glucose will be consumed by the LAB in order to generate ATP for growth and lactic acid will be excreted as [catabolite](https://en.wikipedia.org/wiki/Catabolism) into the mixture. A fraction of the lactic acid excreted into the mixture will dissociate into [lactate and protons](https://en.wikipedia.org/wiki/Conjugate_(acid-base_theory)), resulting in the obseved pH drop.\n",
    "\n",
    "\n"
   ]
  },
  {
   "cell_type": "markdown",
   "id": "7d944a4c",
   "metadata": {},
   "source": [
    "### How do our group prepare for the competition?\n",
    "\n",
    "<img src=\"vessels.png\" width=\"600\" />\n",
    "\n"
   ]
  },
  {
   "cell_type": "markdown",
   "id": "0d02df8d",
   "metadata": {},
   "source": [
    "It is very important to distinguish between the **inoculum prep bottle** and the **fermentation test vessel**\n",
    "\n",
    "<img src=\"incubator.png\" width=\"400\" />\n",
    "\n",
    "Each group will receive 2 **inoculum prep bottles**. These bottles can be placed in the shaking incubator provided in the lab. The shaking incubator provides a controlled temperature of 37C, while simultaneously shaking (or mixing) the fermentation broth. Note that there is only place for 30 bottles (2 per group), but also note that you can use the incubator constantly from 23 August till the date of the competition. \n",
    "\n",
    "The competition will be performed in the **fermentation test vessel** using 450ml of fresh medium (50g/L of glucose and 4g/L of yeast extract) as well as the 50ml contents from the innoculum prep bottle. Upon addition of the inoculum into the fermentation test vessel, the pH will be corrected to 7 and then left to observe the rate of pH decrease over the next two hours. Proton production rates will be calculated from the measurements and compared to that of the other competitors. \n",
    "\n",
    "You will be supplied with two types of [probiotic capsules](https://en.wikipedia.org/wiki/Probiotic) to kickstart your initial fermentation in the inoculum prep bottle. Note that the inoculum prep bottle is a small anaerobic fermenter in its own right and that the pH in the bottle will decrease with time. Also note that it is very easy to measure the pH in the inoculum prep bottles.\n",
    "\n",
    "When preparing the inoculum you want to attain a high cell density in the bottle. You will notice that bacterial cells settles to the bottom of the bottle when taken out of the incubator. Ideally you want to keep the cells by discarding old medium without cells and topping up with fresh medium. In this fashion you are accumulating cells by supplying fresh nutrients for more growth. You should realise that your inoculum bottle will ferment in the incubator 24-7 and that you will only service the prep bottle on a regular basis.\n",
    "\n",
    "When testing an inoculum in the **fermentation test vessel** you should not use the complete 50ml content, since you want to keep some of the bacterial consortia in order to grow back a new inoculum. It is suggested that you retain 5-10ml of the mixture in order to regrow the inoculum.\n",
    "\n",
    "Please note that all fermentations are anaerobic and accordingly you want to remove air from the headspace in the **inoculum prep bottle** and **fermentation test vessel** using the supplied $CO_2$"
   ]
  },
  {
   "cell_type": "markdown",
   "id": "7a1163b0",
   "metadata": {},
   "source": [
    "### When will we work on the bioreactor practical?\n",
    "\n",
    "The lab will be open during office hours and preparations on the **inoculum prep bottles** can be done within these hours. In order to test the innoculum in the **fermentation test vessel** you will have to book a 3 hour slot on a Wednesday or Friday with your TA Thobile. Please note that only the following dates are available and that you need to schedule at least 3 runs on 3 different days:\n",
    "\n",
    "23/8, 25/8, 6/9, 8/9, 11/9, 27/9, 29/9, 4/10, 6/10\n",
    "\n",
    "The data from your 3 runs must be reported in the final report.\n",
    "\n",
    "\n"
   ]
  },
  {
   "cell_type": "markdown",
   "id": "e2e59d83",
   "metadata": {},
   "source": [
    "### Things to consider when developing your inoculum\n",
    "\n",
    "The main objective will be to increase the cell density of the [homolactic bacteria](https://en.wikipedia.org/wiki/Lactic_acid_fermentation#:~:text=In%20homolactic%20fermentation%2C%20one%20molecule,process%20called%20the%20phosphoketolase%20pathway.). Please note that you will only be allowed to empty your inoculum prep bottle by holding the opened bottle upside-down. This implies that the mixture should not be too viscous, since mechanical removal of contents (like shaking and scraping) won't be allowed.\n",
    "\n",
    "You also need to ensure that your microbes are in a state of active growth when the inoculum is added to the test fermenter. This implies that all the glucose in the inoculum prep bottle should not be depleted. Without glucose the microbes go into a state of dormancy and this temporary shutdown won't be ideal if you want the microbes to grow fast in the fermentation test vessel. \n",
    "\n",
    "Also important to realise that LAB bacteria grow fastest at neutral pH values. Unfortunately there will always be a decrease in pH due to lactic acid formation and accordingly the catabolic product will inhibit the growthrate."
   ]
  },
  {
   "cell_type": "markdown",
   "id": "30053f1b",
   "metadata": {},
   "source": [
    "### How will proton production rate be compared in the competition?\n",
    "\n",
    "It will be impossible to ensure that all groups start at the same pH in the competition because the innoculum will immediately decrease the pH on addition due to the lactic acid in the innoculum. A pH reading will be taken after 2 minutes of innoculum addition to establish the proton concentration in your group's mixture. Additional pH measurements will be taken over the next two hours in order to establish how many protons are produced. Apart from the innoculum each group will be allowed to add a predetermined amount of NaOH to the fermentation broth at the same time the innoculum is added. The amount of NaOH added will determine the initial pH. "
   ]
  },
  {
   "cell_type": "code",
   "execution_count": null,
   "id": "5774e6d8",
   "metadata": {},
   "outputs": [],
   "source": []
  }
 ],
 "metadata": {
  "kernelspec": {
   "display_name": "Python 3 (ipykernel)",
   "language": "python",
   "name": "python3"
  },
  "language_info": {
   "codemirror_mode": {
    "name": "ipython",
    "version": 3
   },
   "file_extension": ".py",
   "mimetype": "text/x-python",
   "name": "python",
   "nbconvert_exporter": "python",
   "pygments_lexer": "ipython3",
   "version": "3.9.13"
  }
 },
 "nbformat": 4,
 "nbformat_minor": 5
}
