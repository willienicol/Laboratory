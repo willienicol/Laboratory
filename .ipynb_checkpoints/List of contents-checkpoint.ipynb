{
 "cells": [
  {
   "cell_type": "markdown",
   "id": "58b13746",
   "metadata": {},
   "source": [
    "# CLB321 Kinetics and Bioreactors\n",
    "\n",
    "\n",
    "\n",
    "### 1. Kinetics Manual\n",
    "\n",
    "* [Kinetics](https://nbviewer.org/github/willienicol/Laboratory/blob/main/Kinetics%20manual.ipynb)\n",
    "\n",
    "\n",
    "### 2. Bioreactor Manual\n",
    "\n",
    "* [Bioreactors](https://nbviewer.org/github/willienicol/Laboratory/blob/main/Bioreactor%20manual.ipynb) \n",
    "\n"
   ]
  }
 ],
 "metadata": {
  "kernelspec": {
   "display_name": "Python 3 (ipykernel)",
   "language": "python",
   "name": "python3"
  },
  "language_info": {
   "codemirror_mode": {
    "name": "ipython",
    "version": 3
   },
   "file_extension": ".py",
   "mimetype": "text/x-python",
   "name": "python",
   "nbconvert_exporter": "python",
   "pygments_lexer": "ipython3",
   "version": "3.9.13"
  }
 },
 "nbformat": 4,
 "nbformat_minor": 5
}
