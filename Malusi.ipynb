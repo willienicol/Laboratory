{
 "cells": [
  {
   "cell_type": "markdown",
   "id": "d09bbc51",
   "metadata": {},
   "source": [
    "### Welcome to  Malusi\n",
    "\n",
    "Welcome CSC students. I need your help. We need to install a cheap anaerobic digester systym at the Malusi Youth Development Centre (30 min from campus) within 6 months. \n",
    "\n",
    "<img src=\"Malusi 1.png\" width=\"500\"/>"
   ]
  },
  {
   "cell_type": "markdown",
   "id": "6872d752",
   "metadata": {},
   "source": [
    "We have a plot of 16x11m avaiable right behind the centre. Next to the plot is the community kitchen that cooks lunch for all the children of the community: \n",
    "\n",
    "<img src=\"Malusi2.png\" width=\"500\"/>"
   ]
  },
  {
   "cell_type": "markdown",
   "id": "81bc8abd",
   "metadata": {},
   "source": [
    "The kitchen uses LPG gas, but we want to replace it with biogas. We are thus going to install digesters behind the centre. \n",
    "\n",
    "One idea is to buy an already deveolped product from [HomeBiogas](https://www.homebiogas.com/eu/shop/). This will cost us R40 000 and we have the money available. "
   ]
  },
  {
   "cell_type": "markdown",
   "id": "121a1a0d",
   "metadata": {},
   "source": [
    "### What is the objective of the project?\n",
    "\n",
    "**We want to assist in creating a biogas culture in Malusi**. We want to display a **VERY CHEAP** technology to the people of the township, so that they will consider installing one in their own backyard. In Melusi, 80% of the residents use LPG for cooking food and it costs a family of 5 almost R400 to pay for the LPG. Can you see the oppurtunity?\n",
    "\n",
    "We also want to encourage the use of organic fertilizer, the other product from the digester. We imagine more vegetables grown in fertile soil right next to the digesters in Melusi. Can you see the picture?"
   ]
  },
  {
   "cell_type": "markdown",
   "id": "93f4895d",
   "metadata": {},
   "source": [
    "### The simpler the better\n",
    "\n",
    "I am inspired by this design:\n",
    "\n",
    "<img src=\"Digester1.png\" width=\"800\"/>\n",
    "\n"
   ]
  },
  {
   "cell_type": "markdown",
   "id": "e140611b",
   "metadata": {},
   "source": [
    "A flat lay tubular sheet out of a durable plastic:\n",
    "\n",
    "<img src=\"flatlay.png\" width=\"500\"/>\n"
   ]
  },
  {
   "cell_type": "markdown",
   "id": "0a241f9c",
   "metadata": {},
   "source": [
    "8 heavy duty buckets:\n"
   ]
  },
  {
   "cell_type": "markdown",
   "id": "e78e23af",
   "metadata": {},
   "source": [
    "<img src=\"8buckets.png\" width=\"800\"/>"
   ]
  },
  {
   "cell_type": "markdown",
   "id": "4c79dc92",
   "metadata": {},
   "source": [
    "A few gas fittings, a hole in the ground and a biogas stove from China:\n",
    "\n",
    "<img src=\"stove.png\" width=\"500\"/>"
   ]
  },
  {
   "cell_type": "markdown",
   "id": "bc11ddbc",
   "metadata": {},
   "source": [
    "And that is about it when it comes to investment. All we need is enough organic waste and excat know how on operating the digester. You will be doing a lot of small scale digestions in the lab to aid in our design. Your work is important in helping us to develop a digester culture in the townships!"
   ]
  },
  {
   "cell_type": "markdown",
   "id": "a6d6a2b9",
   "metadata": {},
   "source": [
    "### Let's make the household of 5 our base design\n",
    "\n",
    "The R400 that an average household pays for LPG is the driving force behind the project.This is a lot of money for poor people in the township. It is also the driving force behind our initiative! We will require dedicated caretakers of the digesters, people who understand the basics, who can succesfully operate the digesters and who can also help in training others on digester operation. I am sure there are people ready to invest the time to save the money for their household. Perhaps that person will also be interested in upgrading his vegetable garden with lovely organic fertilizer. With regards to the cost of the raw materials of the installation, we will have funding available from the outside.\n",
    "\n",
    "Let's jump into the numbers to develop a feel for the problem (feel free to suggest improved estimates for the numbers given below):\n"
   ]
  },
  {
   "cell_type": "markdown",
   "id": "fa570996",
   "metadata": {},
   "source": [
    "So we will work with each person in the household using 2kg of LPG per month. This relates to R80 for LPG per month. How much biogas is required to supply this amount of cooking energy. Our current estimate is that 2.22$m^3$ of biogas has the equivalent heating capacity of 1 kg LPG. This implies that we will require 0.74$m^3$ of biogas daily for our family of 5. \n",
    "\n",
    "But how much food and other organic waste is required to generate this amount of gas? It all relates to the volatile solids (VS) in the organic waste. Results on municipal organic waste suggest that an average of 20% of the wet organic waste consists out of VS. Typical values of biogas generated from VS in organic waste suggest that 0.3-0.7 $m^3$ of biogas can be generated from 1kg of VS. We will use 0.4 $\\frac{m^3}{kg \\, VS}$ as conservative estimate. This implies that our household will require 1.85kg of volitale solids or 9.25 kg of wet organic waste per day to keep the food cooked. Perhaps the estimate of 20% VS in organic waste is a bit high? We will determine this number form our own feed that we will make up.   \n"
   ]
  },
  {
   "cell_type": "markdown",
   "id": "71ce9da6",
   "metadata": {},
   "source": [
    "### How big should the household digester be?\n",
    "\n",
    "The total solids (TS) concentration to digester will vary between 5-10%. We can assume that 90% of the TV is VS. Let's start with the higher density slurry of 0.1 $\\frac{kg TS}{kg \\, slurry}$. The VS will be 0.09$\\frac{kg TS}{kg \\, slurry}$ and the rest of the slurry will be water of 0.9 $\\frac{kg water}{kg \\, slurry}$ of which 0.36 $\\frac{kg water}{kg \\, slurry}$ will be contained in the organic waste. Make sure you agree with these numbers! \n",
    "\n",
    "So for the 1.85kg of VS required by the household, 9.25 kg will be in wet waste and we will have to add 11.1kg of water to the slurry before feeding to the digester. If the slurry has a density of 1kg/L a total volume of 20.5l will be used daily.\n",
    "\n",
    "The time spent in the ferementer is the slurry volume devided by the slurry flowrate called the hydaulic retention time (HRT). If we use a HRT of 40 days as a baseline, the slurry volume will be 0.82$m^3$. The rule of thumb is that the volume of biogas production daily should be the same as the liquid volume in digester. Our number is 0.902$\\frac{m^3}{m^3}$ "
   ]
  },
  {
   "cell_type": "code",
   "execution_count": null,
   "id": "7604ac49",
   "metadata": {},
   "outputs": [],
   "source": []
  }
 ],
 "metadata": {
  "kernelspec": {
   "display_name": "Python 3 (ipykernel)",
   "language": "python",
   "name": "python3"
  },
  "language_info": {
   "codemirror_mode": {
    "name": "ipython",
    "version": 3
   },
   "file_extension": ".py",
   "mimetype": "text/x-python",
   "name": "python",
   "nbconvert_exporter": "python",
   "pygments_lexer": "ipython3",
   "version": "3.9.13"
  }
 },
 "nbformat": 4,
 "nbformat_minor": 5
}
