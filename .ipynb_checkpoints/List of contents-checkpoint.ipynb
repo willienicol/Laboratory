{
 "cells": [
  {
   "cell_type": "markdown",
   "id": "b7efaf56",
   "metadata": {},
   "source": [
    "# CLB321 Kinetics and Bioreactors\n",
    "\n",
    "\n",
    "\n",
    "### 1. Kinetics Manual\n",
    "\n",
    "* [Kinetics]()\n",
    "\n",
    "\n",
    "### 2. Bioreactor Manual\n",
    "\n",
    "* [Bioreactors]() \n",
    "\n"
   ]
  }
 ],
 "metadata": {
  "kernelspec": {
   "display_name": "Python 3 (ipykernel)",
   "language": "python",
   "name": "python3"
  },
  "language_info": {
   "codemirror_mode": {
    "name": "ipython",
    "version": 3
   },
   "file_extension": ".py",
   "mimetype": "text/x-python",
   "name": "python",
   "nbconvert_exporter": "python",
   "pygments_lexer": "ipython3",
   "version": "3.9.13"
  }
 },
 "nbformat": 4,
 "nbformat_minor": 5
}
