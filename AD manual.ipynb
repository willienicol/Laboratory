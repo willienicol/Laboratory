{
 "cells": [
  {
   "cell_type": "markdown",
   "id": "ce686dba",
   "metadata": {},
   "source": [
    "# Plastic bag Anaerobic digestion of food-waste\n",
    "\n",
    "<img src=\"baby1.png\" width=\"550\" />\n"
   ]
  },
  {
   "cell_type": "markdown",
   "id": "40bd8b09",
   "metadata": {},
   "source": [
    "### What is expected?\n",
    "\n",
    "Your group will be responsible for a 10L plastic bag digester for the whole semester. During this period you will first have to show that you can achieve stable operation. Once this is accomplished you will execute a well-planned experiment that you will present to me before execution. The baby requires daily attention regarding measuring and purging biogas, extracting digestate and feeding vegetable slurry. We will address the weekend maintenance work at a later stage.\n",
    "\n",
    "Note that this notebook will be constantly updated with new theories and ideas, so ensure to keep your eyes on the development.\n",
    "\n",
    "### The basics of taking care of your baby\n",
    "\n",
    "Your baby will require a daily check. Feeding happens on Mondays, Wednesdays and Fridays. Gas purging and measurement happen every day (except Sunday). In addition, you will be able to perform numerous other measurements on the system.\n",
    "\n",
    "#### Gas maintenance and measurement\n",
    "\n",
    "From the video, it will be clear that you can only store 10L of gas. The experiments are designed to not deliver more than 10L of biogas in 24 hours. This implies that daily purge and measurement of biogas is required. It also implies a refill of the biogas-capturing device. The procedure will be shown to you in the lab, but ensure that you are very familiar with the following:\n",
    "\n",
    "Whenever you open the gas outlet valve (paper clip) you are releasing smelly hydrogen sulfide (H2S) into the lab air. We want to minimize this. The gas analyzer unfortunately has no purge and requires about a liter of biogas that will be dispersed into the lab. Once the measurement is done you can release the remainder of the gas into the purge extraction connection to push the biogas out of the lab. Refilling the gas-capture device with water up to the overflow will push the gas out of the 10L vessel. Ensure to close the gas release valve after purging.\n",
    "\n",
    "By now you will understand that the volume of gas in the upside-down bottle will be the same as the water in the collection bottle. Ensure to place the overflow pipe in a position where water won't leak on the floor before commencing with a weight measurement of displaced water. Also, ensure that the overflow tube is firmly connected to the water collection bottle before leaving the setup.\n",
    "\n",
    "#### Feeding and extraction\n",
    "\n",
    "On Monday/Wednesday and Friday, digestate will be removed from the reactor before feeding vegetable slurry or \"smoothie\" to the babies. For extraction, we require a tube inserted into the L-shaped tube while a vacuum from a mattress pump will be used to pull the liquid out of the reactor. Tube insertion needs to be at the right depth before applying vacuum. Be mindful of keeping the tube end submerged in liquid and carefully control the vacuum pump and shut-off valve to extract the right volume. Ask Mfundo where to discard the digestate after pH measurement. Please note that some of the digestate will be used at times for alternative analysis.\n",
    "\n",
    "For preparing the feed you need a mixture of the following vegetables that will be supplied:\n",
    "\n",
    "<img src=\"recipe.png\" width=\"350\" />\n",
    "\n"
   ]
  },
  {
   "cell_type": "markdown",
   "id": "768b5a75",
   "metadata": {},
   "source": [
    "Please note that you are preparing a 4% solution of solids. We will assume that all solids have a density of 1 $\\frac{kg}{m^3}$, thus solid volume per weight is the same as water. The vegetables combined in the recipe above have a total solid content of 11.8%, with the rest being water. To get a 4% solution you need to consider the water in the vegetables as well as the additional water you must add. Don't add too much water when preparing the initial smoothie batches since you might run out of dilution water towards the end!\n",
    "\n",
    "When adding the smoothie to the digester we will use the same device as extraction. Instead of using an air vacuum, we will use CO2 pressure to push the smoothie into the digester. We want to minimize the addition of oxygen to the digester and accordingly, we will purge the smoothie with CO2 for 3 mins to displace oxygen from the feed bottle. Ensure not to bubble too much CO2 through the digester as this will displace water in the gas capture. Ensure that your gas capture device is serviced (purged and refilled) before commencing with the extraction and feeding. Ensure to drain accumulated water if excess CO2 is released in the digester. "
   ]
  },
  {
   "cell_type": "markdown",
   "id": "b303f89d",
   "metadata": {},
   "source": [
    "#### Online reporting of measurements\n",
    "\n",
    "Your daily measurements will be stored on a shared Google Sheets file. One person in your group will be responsible for providing the daily update. This person will have editing rights for the Google Sheets file. More info on this later."
   ]
  },
  {
   "cell_type": "code",
   "execution_count": null,
   "id": "f180a287",
   "metadata": {},
   "outputs": [],
   "source": []
  }
 ],
 "metadata": {
  "kernelspec": {
   "display_name": "Python 3 (ipykernel)",
   "language": "python",
   "name": "python3"
  },
  "language_info": {
   "codemirror_mode": {
    "name": "ipython",
    "version": 3
   },
   "file_extension": ".py",
   "mimetype": "text/x-python",
   "name": "python",
   "nbconvert_exporter": "python",
   "pygments_lexer": "ipython3",
   "version": "3.9.13"
  }
 },
 "nbformat": 4,
 "nbformat_minor": 5
}
