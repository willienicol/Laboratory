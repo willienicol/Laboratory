{
 "cells": [
  {
   "cell_type": "markdown",
   "id": "6fb88093",
   "metadata": {},
   "source": [
    "# Kinetics manual\n",
    "\n",
    "### Can you stay on the path?\n",
    "\n",
    "In this experiment it will all be about defining a 'path' from theory and then entering the lab prepared so that that your group can experimentally follow the path that you have set out to follow. Have a look at the following graphs:\n",
    "\n",
    "<img src=\"tube.png\" width=\"800\" />\n",
    "\n",
    "In this experiment you will be following the the 'correctness' of your theoretical graph reperesented by the black curve above. You will plot your concentration measurements on the same graph as your theoretical prediction and then determine the thickness of the 'tube' that encapsulates all your experimental measurements. The thinner your tube, the more your marks. This entails that you are a 100% sure about your theoretical prediction prior to the experiment and that you perform your experiment with precision in order to make the tube as thin as possible."
   ]
  },
  {
   "cell_type": "markdown",
   "id": "705fe6c4",
   "metadata": {},
   "source": [
    "### What does the experiment entail?\n",
    "\n",
    "In this experiment two liquid phase reagents will be supplied at fixed concentrations. The kinetics of the reaction will be supplied. The peristaltic pump will pump both reagents (seperately) at the same flowrate. You will be able to easily adjust this flowrate as time progress. The reagents will be fed to two CSTRs connected in series. A conductivity probe will be used in each CSTR and from the conductivity reading you will be able to infer the concentrations of the reagents and products and accordingly plot your data within your 'tube'. Your theoretical curve of the reagent concentrations in each CSTR as time progress will have to be submitted prior to the experiment on Discord. Once the experiment of 2.5 hours is done you will have to determine your tube thickness. You then have to prepare an oral presentation to present your results. In this presentation you will have to show your experimental data on the theoretical profiles that you submitted prior to the experiment. You can also provide improved theoretical models after presenting your original model in order to decrease the 'tube' diameter of your fit. All four members need to be ready to present and I will pick and alter presenters as we go through the presentation. Provided that your presentation is deemed sufficient you won't be expected to write an report. If the presentation is deemed insufficient you will be expected to submit a report within a week after the oral presentation. The objective is to have deep insight into the experiment as this will be tested during the the oral feedback session.  "
   ]
  },
  {
   "cell_type": "markdown",
   "id": "8c3d76f6",
   "metadata": {},
   "source": [
    "### Background on the reaction\n",
    "\n",
    "In this experiment you will study the homogeneous (non catalysed) saponification reaction of ethyl acetate with sodium hydroxide to form sodium acetate and ethanol:\n",
    "\n",
    "$$ CH_3COOCH_2CH_3 + NaOH \\to CH_3COONa+CH_3CH_2OH $$\n",
    "\n",
    "$$ A+B \\to C+D$$\n",
    "\n",
    "The reaction is irreversible and accordingly the reaction rate is only a function of the two reactant concentrations and the temperature. The reaction will start whenever the ethyl acetate mixture gets in contact with the sodium hydroxide mixture. The reaction is known to exibit elementary kinetics and the rate expression is given by:\n",
    "\n",
    "$$-r_A=kC_AC_B$$\n",
    "\n",
    "This implies that the reaction is first order with respect to each of the reagent concentrations.\n",
    "\n",
    "The k-value is known to have units of 6 $\\frac{liter}{mol \\cdot min}$ at 298K. The temperature dependancy of the rate constant is given by the Arrhenius relationship:\n",
    "\n",
    "$$k=ko\\cdot exp \\,[\\frac{-E}{R \\cdot T}]$$"
   ]
  },
  {
   "cell_type": "markdown",
   "id": "75b35c49",
   "metadata": {},
   "source": [
    "$E$ is referred top as the activation energy and is known to be 42 $\\frac{kJ}{mol}$, R is the universal gas constant at 8.314 $\\frac{kJ}{mol \\cdot K}$, while T is the tempurature in Kelvin. Ensure that you can use this equation, as a check you should determine the k-value at 303 K as 7.94 $\\frac{liter}{mol \\cdot min}$"
   ]
  },
  {
   "cell_type": "markdown",
   "id": "d1d51feb",
   "metadata": {},
   "source": [
    "### Background on the experiment\n",
    "\n",
    "The setup can be represented by the diagram below:\n",
    "\n",
    "<img src=\"exp.png\" width=\"800\" />\n",
    "\n",
    "You will be supplied with 3 liters each of 0.08 mol/L ethyl acetate and 0.04 mol/L of NaOH. Ensure that the total accumulative flow of your 2.5 hour experiment is less than 6L. Given that both reagent flows gets mixed into the CSTR the inlet concentration to the first CSTR will be 0.02 mol/L of NaOH (reagent A) and 0.04 mol/l of ethyl acetate (reagent B). At the start of the 2.5 hour run both CSTRs will be filled with distilled water (almost zero electrical conductivity). The EC (electrical conductivity) measurements in each reactor will be recorded on regular time intervals as time progress.\n",
    "\n",
    "Note that both NaOH (A) and sodium acetate (C) contributes to EC. The conductivity of A is more than the conductivity of C and accordingly EC will drop as conversion takes place. In order to calculate the conversion of A (and accordingly the concentration of A and B) you need to know the EC value of a 100% conversion of A. This can be obtained by running a batch reactor with an initial concentration of 0.02 mol/L of A and 0.04 mol/l of B. Once the run is completed the EC vlaue will stabilise to $K_{FINAL}$. The conversion of A at any moment in time will be given by the following equation:\n",
    "\n",
    "$$ x=\\frac{K_{START}-K}{K_{START}-K_{FINAL}}$$\n",
    "\n",
    "Note that K is the EC reading as time progress, while $K_{START}$ is the EC reading of 0.02 mol/L of A. The concentration of A in mol/L will be given by:\n",
    "\n",
    "$$C_A=0.02 \\cdot (1-x)$$\n",
    "\n",
    "The experiment will be performed at ambient temperature and it is crucial to measure temperature at all times. There is likely to be a slight temperature increase as the experiment progress. EC is unfortunately temperature dependant. Within the temperature ranges that we will be working we'll assume a linear dependancy of EC on temperature. Your TA will assist you with your temperature corrections. Best practise will be to have a 0.02 mol/L solution of NaOH and a completed batch run (described above) readily available to monitor $K_{START}$ and $K_{FINAL}$ as temperature varies during the day. "
   ]
  },
  {
   "cell_type": "markdown",
   "id": "a360ecc1",
   "metadata": {},
   "source": [
    "### Requirements for theoretical profile\n",
    "\n",
    "You are expected to change the flowrate at least 3 times after commencing with the experiment. Please note that the flowrate can be set to zero which will imply that both CSTRs will operate as batch reactors. Your $C_A$ value from the second CSTR should exceed 0.017 mol/L once during the run and it should also go lower than 0.003 mol/L during the run. As for the rest of the run you want to avoid extended steady states and rather have major variation in your $C_A$ range (from 0 to 0.02 mol/L). \n",
    "\n",
    "<img src=\"ranges.png\" width=\"500\" />\n",
    "\n",
    "When setting up the differential equations for the different flowrate conditions, it will be easiest to define the flow conditions within the differential equation. By doing this you can only solve the DE once, given the flow changes at given times. Below an example of the if-statement you can add before giving the relevant mole balances:\n",
    "\n"
   ]
  },
  {
   "cell_type": "code",
   "execution_count": 1,
   "id": "920a5ceb",
   "metadata": {},
   "outputs": [],
   "source": [
    "def molbal(t,C):\n",
    "    \n",
    "    if t <= t1:\n",
    "        Q = Q1\n",
    "    elif t1 < t <= t2:\n",
    "        Q = Q2\n",
    "    elif t2 < t <= t3:\n",
    "        Q = Q3\n",
    "    else:\n",
    "        Q = Q4"
   ]
  },
  {
   "cell_type": "markdown",
   "id": "5f022c59",
   "metadata": {},
   "source": [
    "### Setting up the mole balances\n",
    "\n",
    "You are required to use your CKN321 notes for setting up the differential equations that will give you your theoretical concentration profiles\n"
   ]
  },
  {
   "cell_type": "markdown",
   "id": "ebed66af",
   "metadata": {},
   "source": [
    "### Feedback session\n",
    "\n",
    "We will use an overhead projection for your presentation. Note that all 4 students must be ready to give the presentation. I'll choose who starts and switch the presenter as required. You will require high quality and explanatory graphs for this presentation. Be very clear on how you explain your imperfections. You are welcome to re-model your experimental data in order to get improved fits. You also need to comprehend what causes the two datasets ($C_A$ in CSTR1 and CSTR2) to vary in the way they do. Most important is that your preparation is as good as you can get it, since the thickness of the 'tube' that encapsulates your experimental data will play an important role in your final mark. \n",
    "\n"
   ]
  },
  {
   "cell_type": "code",
   "execution_count": null,
   "id": "1f799d5e",
   "metadata": {},
   "outputs": [],
   "source": []
  }
 ],
 "metadata": {
  "kernelspec": {
   "display_name": "Python 3 (ipykernel)",
   "language": "python",
   "name": "python3"
  },
  "language_info": {
   "codemirror_mode": {
    "name": "ipython",
    "version": 3
   },
   "file_extension": ".py",
   "mimetype": "text/x-python",
   "name": "python",
   "nbconvert_exporter": "python",
   "pygments_lexer": "ipython3",
   "version": "3.9.13"
  }
 },
 "nbformat": 4,
 "nbformat_minor": 5
}
