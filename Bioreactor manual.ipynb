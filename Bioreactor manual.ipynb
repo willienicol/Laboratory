{
 "cells": [
  {
   "cell_type": "markdown",
   "id": "ce686dba",
   "metadata": {},
   "source": [
    "# Bioreactor manual\n",
    "\n",
    "### It is all about the competition\n",
    "\n",
    "In this experiment your group will be competing against all the other groups. The objective is to prepare a 50ml liquid innoculum of *lactobacilli* that will reduce the pH of a given mixture at the fastest rate possible. In order to prepare your innoculum you will have to perform various runs on one of the 12 fermenters provided in the lab. On the day of the competition (11 or 13 October) all innoculums will be added at exactly the same time and pH measurements will be recorded every 5 minutes. Marks will be assigned according to how fast you can produce protons in your fermentation broth. Bonus marks will be given for the top 3 groups (there are 15 groups). \n",
    "\n",
    "In addition to preparing for the competition, you will have to write a report on your strategy to develop the innoculum.The report will be due on midnight before your scheduled competition. There are numerous sessions on Wednesday and Thursday where you are not scheduled for another experiment and these should be used for your preparation."
   ]
  },
  {
   "cell_type": "markdown",
   "id": "b3f1f9ab",
   "metadata": {},
   "source": [
    "### What does the fermentation entail?\n",
    "\n"
   ]
  }
 ],
 "metadata": {
  "kernelspec": {
   "display_name": "Python 3 (ipykernel)",
   "language": "python",
   "name": "python3"
  },
  "language_info": {
   "codemirror_mode": {
    "name": "ipython",
    "version": 3
   },
   "file_extension": ".py",
   "mimetype": "text/x-python",
   "name": "python",
   "nbconvert_exporter": "python",
   "pygments_lexer": "ipython3",
   "version": "3.9.13"
  }
 },
 "nbformat": 4,
 "nbformat_minor": 5
}
