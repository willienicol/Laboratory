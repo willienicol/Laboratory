{
 "cells": [
  {
   "cell_type": "markdown",
   "id": "ce686dba",
   "metadata": {},
   "source": [
    "# Bioreactor manual\n",
    "\n",
    "### How fast can you produce protons?\n",
    "\n",
    "<img src=\"prot.png\" width=\"550\" />\n",
    "\n",
    "In this experiment your group will be competing against all the other groups. The objective is to prepare a 50ml liquid innoculum that will reduce the pH of a given mixture at the fastest rate possible. In order to prepare your innoculum you will have to perform various runs on one of the 12 fermenters provided in the lab. On the day of the competition (11 or 13 October) all innoculums will be added at exactly the same time and pH measurements will be recorded every 5 minutes. Marks will be assigned according to how fast you can produce protons in your fermentation broth.  \n",
    "\n",
    "In addition to preparing for the competition, you will have to write a report on your strategy to develop the innoculum. The report will be due on midnight before your scheduled competition. There are numerous sessions on Wednesday and Friday where you are not scheduled for another experiment and these should be used for your preparation."
   ]
  },
  {
   "cell_type": "markdown",
   "id": "b3f1f9ab",
   "metadata": {},
   "source": [
    "### What happens to a sugary mixture with essential amino in an anaerobic environment?\n",
    "\n",
    "Start with 500ml of a mixture containing 50 $\\frac{g}{L}$ of glucose and 8 $\\frac{g}{L}$ of [yeast extract](https://en.wikipedia.org/wiki/Yeast_extract). This mixture will be used at the start of the competition. The mixture contains a carbon source with all the amino acids and presents the perfect invitation for microbes to thrive. For your initial experiment you won't have an innoculum and you will have to rely on the surrounding air that is filled with a multitude of microbial spores. Colonization is bound to occur. Start by preparing the mixture and correct the pH to 7 and then just leave the mixture open to the environment for an hour. After this you can close off the vessel and flush the air out with $CO_2$ to create an anaerobic environment. Ensure that you stir the mixture and use the hotplate to control the mixture at 37C. Within a day you will notice a change in colour indicating that microbes are growing in the mixture. You will also note a decrease in the pH as time progress. Once you observe this you can start with the development of your competition innoculum.\n",
    "\n",
    "You might wonder why the mixture acidifies with time? The most probable answer is that you have a lactic acid bacteria ([LAB](https://en.wikipedia.org/wiki/Lactic_acid_bacteria)) infection. One of the simplest and easiets route to produce ATP anaerobically from glucose is via the production of lactic acid.\n",
    "\n",
    "<img src=\"lactic.png\" width=\"400\" />\n",
    "\n",
    "LAB presents a group of bacteria that is specialized in this process, especially at temperatures close to that of the human body. LAB does however require certain [essential amino acids](https://en.wikipedia.org/wiki/Essential_amino_acid), but given the yeast extract in the mixture this won't be an issue. Glucose will be consumed by the LAB in order to generate ATP for growth and lactic acid will be excreted as [catabolite](https://en.wikipedia.org/wiki/Catabolism) into the mixture. A fraction of the lactic acid excreted into the mixture will dissociate into [lactate and protons](https://en.wikipedia.org/wiki/Conjugate_(acid-base_theory)), resulting in the obseved pH drop.\n",
    "\n",
    "\n"
   ]
  },
  {
   "cell_type": "markdown",
   "id": "8c7051ca",
   "metadata": {},
   "source": [
    "### How do our group prepare for the competition?\n",
    "\n",
    "You need to prepare a 50ml vile containing a high density of actively growing LAB. You will only be allowed to empty your vile by holding the opened vile upside-down. This implies that the mixture should not be too viscous, since mechanical removal of contents (like shaking and scraping) won't be allowed. You will be expected to perform numerous fermentations using a 50ml innoculum in order to monitor the pH response of the fermentation.\n",
    "\n",
    "Your initial experiment will rely on LAB infections from the environment, but you are welcome to use commercial sources of LAB to enhance the acidification rate. [Probiotics](https://en.wikipedia.org/wiki/Probiotic) available from pharmacies and supermarkets are a good source of LAB and you are welcome to experiment with these. One of the challenges will be to ensure [homolactic fermentation](https://en.wikipedia.org/wiki/Lactic_acid_fermentation#:~:text=In%20homolactic%20fermentation%2C%20one%20molecule,process%20called%20the%20phosphoketolase%20pathway.) as opposed to heterolactic fermentation where enthanol is formed as additional catabolic product. Note that ethanol production will have no influence on the pH.\n",
    "\n",
    "The microbial density of LAB ($C_X$ from CBI310) in your innoculum will be linked to the acidification rate. The idea is to have as many as possible homolactic producing bacteria in your innoculum. In addition you want the microbial population to be in an active state (alive and ready to grow). Dormant bacteria takes time to adapt to a new environment and this will not be beneficial to your instantaneous production of protons "
   ]
  },
  {
   "cell_type": "markdown",
   "id": "cb78822b",
   "metadata": {},
   "source": [
    "### How will proton production rate be compared in the competition?\n",
    "\n",
    "It will be impossible to ensure that all groups start at the same pH in the competition because the innoculum will immediately decrease the pH on addition due to the lactic acid in the innoculum. A pH reading will be taken after 2 minutes of innoculum addition to establish the proton concentration in your group's mixture. Two additional pH measurements will be taken after x and y minutes (the exact values of x and y will be published later in the semester) in order to establish how many protons was produced in the given time intervals. Apart from the innoculum each group will be allowed to add a predetermined amount of NaOH to the fermentation broth at the same time the innoculum is added. The amount of NaOH added will determine the initial pH. Note that the value of the initial pH will have an influence on the rate of proton production.   "
   ]
  },
  {
   "cell_type": "code",
   "execution_count": null,
   "id": "fa8ecafe",
   "metadata": {},
   "outputs": [],
   "source": []
  }
 ],
 "metadata": {
  "kernelspec": {
   "display_name": "Python 3 (ipykernel)",
   "language": "python",
   "name": "python3"
  },
  "language_info": {
   "codemirror_mode": {
    "name": "ipython",
    "version": 3
   },
   "file_extension": ".py",
   "mimetype": "text/x-python",
   "name": "python",
   "nbconvert_exporter": "python",
   "pygments_lexer": "ipython3",
   "version": "3.9.13"
  }
 },
 "nbformat": 4,
 "nbformat_minor": 5
}
